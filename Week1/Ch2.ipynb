{
  "nbformat": 4,
  "nbformat_minor": 0,
  "metadata": {
    "colab": {
      "name": "Ch2.ipynb",
      "provenance": []
    },
    "kernelspec": {
      "name": "python3",
      "display_name": "Python 3"
    },
    "language_info": {
      "name": "python"
    }
  },
  "cells": [
    {
      "cell_type": "markdown",
      "metadata": {
        "id": "QNpAH1HiFx0H"
      },
      "source": [
        "# Chapter 2. 자연어와 단어의 분산 표현\n",
        "\n",
        "컴퓨터에게 단어의 의미를 이해시키기 위한 방법\n",
        "- 시소러스(thesaurus, 유의어 사전) 활용\n",
        "- 통계 기반 기법\n",
        "- 추론 기반 기법 (word2vec)"
      ]
    },
    {
      "cell_type": "code",
      "metadata": {
        "id": "A3F-HJKvXze1"
      },
      "source": [
        "import numpy as np\n",
        "import matplotlib.pyplot as plt"
      ],
      "execution_count": 60,
      "outputs": []
    },
    {
      "cell_type": "markdown",
      "metadata": {
        "id": "vnavfLSVG2FE"
      },
      "source": [
        "## 2.2 시소러스\n",
        "\n",
        "- 동의어/유의어가 한 그룹으로 분류\n",
        "- 단어들을 의미의 상하위 / 전체와 부분 등의 관계에 기초해 그래프로 표현"
      ]
    },
    {
      "cell_type": "markdown",
      "metadata": {
        "id": "-0a7EeoTI68c"
      },
      "source": [
        "### 2.2.1 WordNet\n",
        "= 자연어처리 분야에서 가장 유명한 시소러스"
      ]
    },
    {
      "cell_type": "code",
      "metadata": {
        "id": "xHcgMqgqFuzU"
      },
      "source": [
        "# Appendix B."
      ],
      "execution_count": null,
      "outputs": []
    },
    {
      "cell_type": "markdown",
      "metadata": {
        "id": "0x_HJuAVJd17"
      },
      "source": [
        "### 2.2.2 시소러스의 문제점\n",
        "사람이 레이블링하는 방식이므로, \n",
        "- 신조어/의미 변화 등의 시대 변화에 대응하기 어렵다. \n",
        "- 큰 인적 비용 발생\n",
        "- 단어의 미묘한 차이를 표현할 수 없다. (비슷한 단어를 단순히 묶으므로)\n",
        "\n",
        "-> 통계 기반 기법, 추론 기반 기법 등장"
      ]
    },
    {
      "cell_type": "markdown",
      "metadata": {
        "id": "3Gq0s-zQKPHe"
      },
      "source": [
        "## 2.3 통계 기반 기법\n",
        "- 말뭉치(corpus) : (자연어 처리 연구나 어플리케이션을 염두해 두고 수집된) 대량의 텍스트 데이터"
      ]
    },
    {
      "cell_type": "markdown",
      "metadata": {
        "id": "VNuyoQznKo70"
      },
      "source": [
        "### 2.3.1 파이썬으로 말뭉치 전처리하기\n",
        "- 텍스트 데이터를 단어로 분할하고 분할된 단어들을 단어 id 목록으로 변환하기"
      ]
    },
    {
      "cell_type": "code",
      "metadata": {
        "id": "3aD-1PIYF1IE"
      },
      "source": [
        "text = 'You say goodbye and I say hello.'"
      ],
      "execution_count": 10,
      "outputs": []
    },
    {
      "cell_type": "code",
      "metadata": {
        "colab": {
          "base_uri": "https://localhost:8080/",
          "height": 35
        },
        "id": "dUJMdxZ-KBUb",
        "outputId": "327d6fb8-3844-414a-d37d-bf1083974702"
      },
      "source": [
        "text = text.lower()\n",
        "text = text.replace('.',' .'); text"
      ],
      "execution_count": 7,
      "outputs": [
        {
          "output_type": "execute_result",
          "data": {
            "application/vnd.google.colaboratory.intrinsic+json": {
              "type": "string"
            },
            "text/plain": [
              "'you say goodbye and i say hello .'"
            ]
          },
          "metadata": {
            "tags": []
          },
          "execution_count": 7
        }
      ]
    },
    {
      "cell_type": "code",
      "metadata": {
        "colab": {
          "base_uri": "https://localhost:8080/"
        },
        "id": "kqZoZDVyKBbk",
        "outputId": "15699c44-f990-433b-89af-568c9389d9cf"
      },
      "source": [
        "words = text.split(' '); words"
      ],
      "execution_count": 8,
      "outputs": [
        {
          "output_type": "execute_result",
          "data": {
            "text/plain": [
              "['you', 'say', 'goodbye', 'and', 'i', 'say', 'hello', '.']"
            ]
          },
          "metadata": {
            "tags": []
          },
          "execution_count": 8
        }
      ]
    },
    {
      "cell_type": "code",
      "metadata": {
        "colab": {
          "base_uri": "https://localhost:8080/"
        },
        "id": "7J_R55W4KBfU",
        "outputId": "ea233ea7-c738-48c6-e9fc-63486195c505"
      },
      "source": [
        "# 정규표현식 이용 <- ??\n",
        "import re\n",
        "re.split('(\\W+)?',text)"
      ],
      "execution_count": 11,
      "outputs": [
        {
          "output_type": "execute_result",
          "data": {
            "text/plain": [
              "['',\n",
              " None,\n",
              " 'Y',\n",
              " None,\n",
              " 'o',\n",
              " None,\n",
              " 'u',\n",
              " ' ',\n",
              " '',\n",
              " None,\n",
              " 's',\n",
              " None,\n",
              " 'a',\n",
              " None,\n",
              " 'y',\n",
              " ' ',\n",
              " '',\n",
              " None,\n",
              " 'g',\n",
              " None,\n",
              " 'o',\n",
              " None,\n",
              " 'o',\n",
              " None,\n",
              " 'd',\n",
              " None,\n",
              " 'b',\n",
              " None,\n",
              " 'y',\n",
              " None,\n",
              " 'e',\n",
              " ' ',\n",
              " '',\n",
              " None,\n",
              " 'a',\n",
              " None,\n",
              " 'n',\n",
              " None,\n",
              " 'd',\n",
              " ' ',\n",
              " '',\n",
              " None,\n",
              " 'I',\n",
              " ' ',\n",
              " '',\n",
              " None,\n",
              " 's',\n",
              " None,\n",
              " 'a',\n",
              " None,\n",
              " 'y',\n",
              " ' ',\n",
              " '',\n",
              " None,\n",
              " 'h',\n",
              " None,\n",
              " 'e',\n",
              " None,\n",
              " 'l',\n",
              " None,\n",
              " 'l',\n",
              " None,\n",
              " 'o',\n",
              " '.',\n",
              " '',\n",
              " None,\n",
              " '']"
            ]
          },
          "metadata": {
            "tags": []
          },
          "execution_count": 11
        }
      ]
    },
    {
      "cell_type": "markdown",
      "metadata": {
        "id": "hXk42MNpMQ4B"
      },
      "source": [
        "- `r'\\w+'`를 인자로 전달하면 whitespace 기준으로 문자열을 분리\n",
        "- `\\W `: 문자+숫자(alphanumeric)가 아닌 문자와 매치\n",
        "- `+` : 앞에 있는 문자가 최소 한 번 이상 반복되어야 매치\n",
        "- `?` : 앞에 있는 문자가 없거나 하나 있을 때 매치 (있어도 되고 없어도 된다)"
      ]
    },
    {
      "cell_type": "code",
      "metadata": {
        "id": "oRLJipLuKBhg"
      },
      "source": [
        "word_to_id = {}\n",
        "id_to_word = {}\n",
        "\n",
        "for word in words :\n",
        "  if word not in word_to_id :\n",
        "    new_id = len(word_to_id)    #id는 {0 ,1, 2 ... 이런 식으로 증가}\n",
        "    word_to_id[word] = new_id\n",
        "    id_to_word[new_id] = word"
      ],
      "execution_count": 12,
      "outputs": []
    },
    {
      "cell_type": "code",
      "metadata": {
        "colab": {
          "base_uri": "https://localhost:8080/"
        },
        "id": "BV_M_cdUXDo6",
        "outputId": "60eaf116-d48c-41d0-8bcd-a2a0cf42a2b0"
      },
      "source": [
        "id_to_word"
      ],
      "execution_count": 13,
      "outputs": [
        {
          "output_type": "execute_result",
          "data": {
            "text/plain": [
              "{0: 'you', 1: 'say', 2: 'goodbye', 3: 'and', 4: 'i', 5: 'hello', 6: '.'}"
            ]
          },
          "metadata": {
            "tags": []
          },
          "execution_count": 13
        }
      ]
    },
    {
      "cell_type": "code",
      "metadata": {
        "colab": {
          "base_uri": "https://localhost:8080/"
        },
        "id": "m0-dEc-lXF0Q",
        "outputId": "e7dd5584-11f5-4b60-dad0-0742980922bf"
      },
      "source": [
        "word_to_id"
      ],
      "execution_count": 14,
      "outputs": [
        {
          "output_type": "execute_result",
          "data": {
            "text/plain": [
              "{'.': 6, 'and': 3, 'goodbye': 2, 'hello': 5, 'i': 4, 'say': 1, 'you': 0}"
            ]
          },
          "metadata": {
            "tags": []
          },
          "execution_count": 14
        }
      ]
    },
    {
      "cell_type": "code",
      "metadata": {
        "colab": {
          "base_uri": "https://localhost:8080/"
        },
        "id": "tG-3ZmgfXGxI",
        "outputId": "ffbcb215-bd63-4bd3-a76a-191e24c52b76"
      },
      "source": [
        "corpus = [word_to_id[w] for w in words]\n",
        "corpus = np.array(corpus);corpus"
      ],
      "execution_count": 17,
      "outputs": [
        {
          "output_type": "execute_result",
          "data": {
            "text/plain": [
              "array([0, 1, 2, 3, 4, 1, 5, 6])"
            ]
          },
          "metadata": {
            "tags": []
          },
          "execution_count": 17
        }
      ]
    },
    {
      "cell_type": "markdown",
      "metadata": {
        "id": "LDanip76YIc2"
      },
      "source": [
        "> 코드로 정리"
      ]
    },
    {
      "cell_type": "code",
      "metadata": {
        "id": "cUhPqERCXwM-"
      },
      "source": [
        "def preprocess(text) :\n",
        "  text= text.lower()\n",
        "  text = text.replace('.',' .')\n",
        "  words = text.split(' ')\n",
        "  \n",
        "  word_to_id = {}\n",
        "  id_to_word = {}\n",
        "  for word in words :\n",
        "    if word not in word_to_id :\n",
        "      new_id = len(word_to_id)\n",
        "      word_to_id[word] = new_id\n",
        "      id_to_word[new_id] = word\n",
        "  \n",
        "  corpus = np.array([word_to_id[w] for w in words])\n",
        "  \n",
        "  return corpus, word_to_id, id_to_word"
      ],
      "execution_count": 18,
      "outputs": []
    },
    {
      "cell_type": "code",
      "metadata": {
        "id": "IQveOe86Ytyl"
      },
      "source": [
        "text = 'You say goodbye and I say hello.'\n",
        "corpus, word_to_id, id_to_word = preprocess(text)"
      ],
      "execution_count": 19,
      "outputs": []
    },
    {
      "cell_type": "markdown",
      "metadata": {
        "id": "RUN5HPTkZPki"
      },
      "source": [
        "### 2.3.2 단어의 분산 표현\n",
        "- 단어의 의미를 파악할 수 있는 벡터 표현\n",
        "- 단어의 분산 표현은 단어를 고정 길의 의 밀집벡터(dense vector)로 표현"
      ]
    },
    {
      "cell_type": "markdown",
      "metadata": {
        "id": "K1PIa5SaZtrp"
      },
      "source": [
        "### 2.3.3 분포 가설\n",
        ": 단어의 의미는 주변 단어(단어가 사용된 맥락-context-)에 의해 형성된다.\n",
        "\n",
        "- `맥락` : 특정 단어를 중심에 둔 그 주변의 단어\n",
        "- 맥락의 크기 = 윈도우 크기 : 주변 단어를 몇개나 포함할지</br>\n",
        "e.g. 윈도우 크기가 2면 단어를 중심으로 좌우 2단어씩 포함\n"
      ]
    },
    {
      "cell_type": "markdown",
      "metadata": {
        "id": "vsWOHhQ1aiE5"
      },
      "source": [
        "### 2.3.4 동시발생 행렬\n",
        "= 모든 단어에 대해 동시발생하는 단어를 표에 정리한 행렬\n",
        "\n",
        "- 주변에 어떤 단어가 몇번이나 등장하는지 세어 집계하는 방법 = 통계 기반 기법"
      ]
    },
    {
      "cell_type": "code",
      "metadata": {
        "colab": {
          "base_uri": "https://localhost:8080/"
        },
        "id": "jmqPlGU1ZLq8",
        "outputId": "4a982aa7-1803-4d6e-b167-c4f12421789c"
      },
      "source": [
        "corpus"
      ],
      "execution_count": 20,
      "outputs": [
        {
          "output_type": "execute_result",
          "data": {
            "text/plain": [
              "array([0, 1, 2, 3, 4, 1, 5, 6])"
            ]
          },
          "metadata": {
            "tags": []
          },
          "execution_count": 20
        }
      ]
    },
    {
      "cell_type": "code",
      "metadata": {
        "colab": {
          "base_uri": "https://localhost:8080/"
        },
        "id": "l7On9nHZZMO0",
        "outputId": "0354f08a-9dc4-48e8-a738-87324e5a9ef7"
      },
      "source": [
        "id_to_word"
      ],
      "execution_count": 21,
      "outputs": [
        {
          "output_type": "execute_result",
          "data": {
            "text/plain": [
              "{0: 'you', 1: 'say', 2: 'goodbye', 3: 'and', 4: 'i', 5: 'hello', 6: '.'}"
            ]
          },
          "metadata": {
            "tags": []
          },
          "execution_count": 21
        }
      ]
    },
    {
      "cell_type": "code",
      "metadata": {
        "id": "rAyv7dMfZMSM"
      },
      "source": [
        "def create_co_matrix(corpus, vocab_size, window_size=1) :\n",
        "  corpus_size = len(corpus)\n",
        "  co_matrix = np.zeros((vocab_size,vocab_size), dtype= np.int32)\n",
        "\n",
        "  for idx, word_id in enumerate(corpus) :\n",
        "    for i in range(1, window_size+1) :\n",
        "      left_idx = idx - i\n",
        "      right_idx = idx + i\n",
        "      if left_idx >= 0 :\n",
        "        left_word_id = corpus[left_idx]\n",
        "        co_matrix[word_id,left_word_id] += 1\n",
        "      if right_idx < corpus_size :\n",
        "        right_word_id = corpus[right_idx]\n",
        "        co_matrix[word_id, right_word_id] += 1\n",
        "  \n",
        "  return co_matrix"
      ],
      "execution_count": 22,
      "outputs": []
    },
    {
      "cell_type": "markdown",
      "metadata": {
        "id": "Wv8ZeyDJgGB9"
      },
      "source": [
        "### 2.3.5 벡터 간 유사도\n",
        "\n",
        "- 코사인 유사도\n",
        "![e 2-1.png](data:image/png;base64,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)\n",
        "\n",
        "  - 분자 : 벡터의 내적\n",
        "  - 분모 : 벡터의 norm\n",
        "  - 벡터를 정규화 한 후 내적\n",
        "  - 벡터의 방향이 완전히 같다면 1, 반대라면 -1"
      ]
    },
    {
      "cell_type": "code",
      "metadata": {
        "id": "TAAZeF7LZMXO"
      },
      "source": [
        "def cos_similarity(x,y, eps =1e-8) : \n",
        "  nx = x / np.sqrt(np.sum(x**2)+eps)\n",
        "  ny = y / np.sqrt(np.sum(y**2)+eps)\n",
        "  return np.dot(nx,ny)"
      ],
      "execution_count": 31,
      "outputs": []
    },
    {
      "cell_type": "markdown",
      "metadata": {
        "id": "j4IqVdZoiBR7"
      },
      "source": [
        "분모에 매우 작은값(eps)를 더해줘 `devide by zero` 오류 방지"
      ]
    },
    {
      "cell_type": "code",
      "metadata": {
        "id": "YtLuLpMmZMby"
      },
      "source": [
        "text = 'You say goodbye and I say hello.'\n",
        "corpus, word_to_id, id_to_word = preprocess(text)\n",
        "vocab_size = len(word_to_id)\n",
        "C = create_co_matrix(corpus,vocab_size)"
      ],
      "execution_count": 23,
      "outputs": []
    },
    {
      "cell_type": "code",
      "metadata": {
        "colab": {
          "base_uri": "https://localhost:8080/"
        },
        "id": "a1tPsRALZMga",
        "outputId": "0a282a9d-ac1f-4cfa-9687-3a746ea3fe89"
      },
      "source": [
        "c0 = C[word_to_id['you']]   #'you'의 단어벡터\n",
        "c1 = C[word_to_id['i']]     #'i'의 단어벡터\n",
        "print(cos_similarity(c0,c1))"
      ],
      "execution_count": 25,
      "outputs": [
        {
          "output_type": "stream",
          "text": [
            "0.7071067758832467\n"
          ],
          "name": "stdout"
        }
      ]
    },
    {
      "cell_type": "markdown",
      "metadata": {
        "id": "R-w5n4pojDe-"
      },
      "source": [
        "코사인 유사도 값의 범위는 -1~1 사이이므로 비교적 유사성이 높다고 볼 수 있음"
      ]
    },
    {
      "cell_type": "markdown",
      "metadata": {
        "id": "rk4h8uvFjIic"
      },
      "source": [
        "### 2.3.6 유사 단어의 랭킹 표시\n",
        "\n",
        "- 어떤 단어가 검색어로 주어지면, 그 검색어와 비슷한 단어를 유사도 순으로 출력하는 함수 구현"
      ]
    },
    {
      "cell_type": "code",
      "metadata": {
        "id": "jUSV1gymjAtY"
      },
      "source": [
        "def most_similar(query, word_to_id, id_to_word, word_matrix, top=5) :\n",
        "  # 1. 검색어를 꺼낸다\n",
        "  if query not in word_to_id :\n",
        "    print(\"%s를 찾을 수 없습니다.\"%query)\n",
        "    return \n",
        "  \n",
        "  print('\\n[query]' + query)\n",
        "  query_id = word_to_id[query]\n",
        "  query_vec = word_matrix[query_id]\n",
        "\n",
        "  # 2. 코사인 유사도 계산\n",
        "  vocab_size = len(id_to_word)\n",
        "  similarity = np.zeros(vocab_size)\n",
        "  for i in range(vocab_size) :\n",
        "    similarity[i] = cos_similarity(query_vec,word_matrix[i])\n",
        "\n",
        "  # 3. 코사인 유사도를 기준으로 내림차순으로 출력\n",
        "  count = 0\n",
        "  for i in (-1*similarity).argsort() :\n",
        "    if id_to_word[i] == query :\n",
        "      continue\n",
        "    print('%s : %s'%(id_to_word[i], similarity[i]))\n",
        "    count += 1\n",
        "    if count >= top :\n",
        "      return\n"
      ],
      "execution_count": 36,
      "outputs": []
    },
    {
      "cell_type": "markdown",
      "metadata": {
        "id": "1e_QIFsrlXTe"
      },
      "source": [
        "- `numpy.argsort()` : array를 오름차순으로 정렬 후 인덱스를 반환\n",
        "</br> -> 여기에 `-`를 붙였으니까 위 함수는 내림차순 정렬"
      ]
    },
    {
      "cell_type": "code",
      "metadata": {
        "colab": {
          "base_uri": "https://localhost:8080/"
        },
        "id": "VXHC7DzklcA-",
        "outputId": "cf7598a2-0af0-4dd3-d974-50d082b62686"
      },
      "source": [
        "most_similar('you', word_to_id, id_to_word, C)"
      ],
      "execution_count": 37,
      "outputs": [
        {
          "output_type": "stream",
          "text": [
            "\n",
            "[query]you\n",
            "goodbye : 0.7071067758832467\n",
            "i : 0.7071067758832467\n",
            "hello : 0.7071067758832467\n",
            "say : 0.0\n",
            "and : 0.0\n"
          ],
          "name": "stdout"
        }
      ]
    },
    {
      "cell_type": "markdown",
      "metadata": {
        "id": "0IpMDHNp-c46"
      },
      "source": [
        "## 2.4 통계 기반 기법 개선하기"
      ]
    },
    {
      "cell_type": "markdown",
      "metadata": {
        "id": "S-IYLK5t-h1Q"
      },
      "source": [
        "### 2.4.1 상호정보량\n",
        "\n",
        "- 점별 상호정보량(PMI, Pointwize Mutual Information)\n",
        "\n",
        "![e 2-2.png](data:image/png;base64,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)\n",
        "\n",
        "    - P(x,y) : x와 y가 동시에 등장할 확률\n",
        "    - PMI값이 높을수록 관련성이 높다는 의미"
      ]
    },
    {
      "cell_type": "markdown",
      "metadata": {
        "id": "gK4MpSiwWmwy"
      },
      "source": [
        "![e 2-3.png](data:image/png;base64,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)\n",
        "\n",
        "    - C는 동시발생행렬"
      ]
    },
    {
      "cell_type": "markdown",
      "metadata": {
        "id": "f1DjePIIbSLR"
      },
      "source": [
        "단, 두 단어의 동시 발생 횟수가 0이면 $log_20 = -\\infty$ 이기 때문에 **양의 상호정보량(PPMI)**을 사용\n",
        "\n",
        "$PPMI(x,y) = max(0,PMI(x,y))$\n",
        "- PMI가 음수일 때는 0으로 취급"
      ]
    },
    {
      "cell_type": "code",
      "metadata": {
        "id": "SN5B_LsemAji"
      },
      "source": [
        "def ppmi(C, verbose=False, eps=1e-8) :    # C : 동시발생행렬\n",
        "  M = np.zeros_like(C, dtype=np.float32)  \n",
        "  N = np.sum(C)                           # N : sum(axis=None) -> 모든 원소 값을 다 더해서 반환, 동시 발생된 모든 단어의 개수\n",
        "  S = np.sum(C, axis=0)                   # S : 각 단어별 동시 발생 횟수\n",
        "  total = C.shape[0]*C.shape[1]           # total : 전체 행렬 크기\n",
        "  #print(N,S,total)\n",
        "  cnt = 0\n",
        "\n",
        "  for i in range(C.shape[0]) :\n",
        "    for j in range(C.shape[1]) :\n",
        "      pmi = np.log2(C[i,j]*N / (S[j]+S[i])+eps)\n",
        "      M[i,j] = max(0,pmi)\n",
        "\n",
        "      if verbose :\n",
        "        cnt+=1\n",
        "        if cnt % (total//100) == 0 :\n",
        "          print('%.1f%% 완료'%(100*cnt/total))\n",
        "\n",
        "  return M"
      ],
      "execution_count": 51,
      "outputs": []
    },
    {
      "cell_type": "code",
      "metadata": {
        "colab": {
          "base_uri": "https://localhost:8080/"
        },
        "id": "Gl3TqledlIq3",
        "outputId": "0f536036-92b4-4f75-fb02-fb57190aaea9"
      },
      "source": [
        "text = 'You say goodbye and I say hello.'\n",
        "corpus, word_to_id, id_to_word = preprocess(text)\n",
        "vocab_size = len(word_to_id)\n",
        "C = create_co_matrix(corpus, vocab_size)\n",
        "W = ppmi(C)\n",
        "\n",
        "np.set_printoptions(precision=3)  # 유효 자릿수를 세 자리로 표시\n",
        "print('동시발생 행렬')\n",
        "print(C)\n",
        "print('-'*50)\n",
        "print('PPMI')\n",
        "print(W)"
      ],
      "execution_count": 52,
      "outputs": [
        {
          "output_type": "stream",
          "text": [
            "동시발생 행렬\n",
            "[[0 1 0 0 0 0 0]\n",
            " [1 0 1 0 1 1 0]\n",
            " [0 1 0 1 0 0 0]\n",
            " [0 0 1 0 1 0 0]\n",
            " [0 1 0 1 0 0 0]\n",
            " [0 1 0 0 0 0 1]\n",
            " [0 0 0 0 0 1 0]]\n",
            "--------------------------------------------------\n",
            "PPMI\n",
            "[[0.    1.485 0.    0.    0.    0.    0.   ]\n",
            " [1.485 0.    1.222 0.    1.222 1.222 0.   ]\n",
            " [0.    1.222 0.    1.807 0.    0.    0.   ]\n",
            " [0.    0.    1.807 0.    1.807 0.    0.   ]\n",
            " [0.    1.222 0.    1.807 0.    0.    0.   ]\n",
            " [0.    1.222 0.    0.    0.    0.    2.222]\n",
            " [0.    0.    0.    0.    0.    2.222 0.   ]]\n"
          ],
          "name": "stdout"
        }
      ]
    },
    {
      "cell_type": "markdown",
      "metadata": {
        "id": "Xc4RR3ws-h9p"
      },
      "source": [
        "But, 말뭉치의 어휘 수가 증가하면 벡터 차원 수도 동일하게 증가.</br>\n",
        "&& 게다가 현재는 대부분의 원소가 0으로 이루어져 있음 -> 각 원소의 중요도가 낮음"
      ]
    },
    {
      "cell_type": "markdown",
      "metadata": {
        "id": "NSEy1ExcpaI0"
      },
      "source": [
        "### 2.4.2 차원 감소\n",
        ": 중요한 정보는 최대한 유지하면서 벡터의 차원을 줄이는 방법\n",
        "- 희소 벡터에서 중요한 축을 찾아내어 더 적은 차원으로 다시 표현\n",
        "- 차원 감소의 결과로 희소벡터 ->  밀집벡터로 변환\n",
        "\n",
        "\n",
        "- 대표적인 방법 :  특잇값분해(SVD, Singular Value Decomposition) <br>\n",
        "$X = USV^T$ <br>\n",
        "임의의 행렬 X를 U,S,V라는 세 행렬의 곱으로 분해\n",
        "  - U와 V는 직교행렬(orthogonal matrix)\n",
        "  - S는 대각행렬(diagonal matrix)\n",
        "![fig 2-10.png](data:image/png;base64,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)\n",
        "\n",
        "    - U : 단어공간\n",
        "    - S : 특이값(해당 축의 중요도)이 큰 순서대로 대각성분이 나열 \n",
        "    - 행렬 X : 해당 단어 ID의 단어 벡터가 저장\n",
        "    - 행렬 U'라는 차원 감소된 벡터로 표현"
      ]
    },
    {
      "cell_type": "markdown",
      "metadata": {
        "id": "YCMzn8wJtN_u"
      },
      "source": [
        "### 2.4.3 SVD에 의한 차원 감소\n",
        "- numpy의 `linalg` 모듈 활용"
      ]
    },
    {
      "cell_type": "code",
      "metadata": {
        "id": "wLc6VF60pViJ"
      },
      "source": [
        "text = 'You say goodbye and I say hello.'\n",
        "corpus, word_to_id, id_to_word = preprocess(text)\n",
        "vocab_size = len(id_to_word)\n",
        "C = create_co_matrix(corpus, vocab_size, window_size=1)\n",
        "W = ppmi(C)\n",
        "\n",
        "# SVD\n",
        "U, S, V = np.linalg.svd(W)  #W를 U,S,V로 SVD분해"
      ],
      "execution_count": 54,
      "outputs": []
    },
    {
      "cell_type": "code",
      "metadata": {
        "colab": {
          "base_uri": "https://localhost:8080/"
        },
        "id": "Hfsonb4ftg7R",
        "outputId": "00971b82-10d9-4af5-bb20-5a95a7e67f21"
      },
      "source": [
        "C[0]  #동시발생 행렬"
      ],
      "execution_count": 55,
      "outputs": [
        {
          "output_type": "execute_result",
          "data": {
            "text/plain": [
              "array([0, 1, 0, 0, 0, 0, 0], dtype=int32)"
            ]
          },
          "metadata": {
            "tags": []
          },
          "execution_count": 55
        }
      ]
    },
    {
      "cell_type": "code",
      "metadata": {
        "colab": {
          "base_uri": "https://localhost:8080/"
        },
        "id": "Kc1YvGk_tsTk",
        "outputId": "c1876fd7-0fcf-486b-ad4a-06294e090543"
      },
      "source": [
        "W[0]  #PPMI 행렬"
      ],
      "execution_count": 56,
      "outputs": [
        {
          "output_type": "execute_result",
          "data": {
            "text/plain": [
              "array([0.   , 1.485, 0.   , 0.   , 0.   , 0.   , 0.   ], dtype=float32)"
            ]
          },
          "metadata": {
            "tags": []
          },
          "execution_count": 56
        }
      ]
    },
    {
      "cell_type": "code",
      "metadata": {
        "colab": {
          "base_uri": "https://localhost:8080/"
        },
        "id": "qvr_oc92tvwW",
        "outputId": "27cad464-e59d-4620-869d-9e449e533a32"
      },
      "source": [
        "U[0]  #SVD"
      ],
      "execution_count": 57,
      "outputs": [
        {
          "output_type": "execute_result",
          "data": {
            "text/plain": [
              "array([ 0.000e+00,  3.146e-01, -8.327e-17, -8.970e-02,  9.450e-01,\n",
              "        0.000e+00, -5.001e-17], dtype=float32)"
            ]
          },
          "metadata": {
            "tags": []
          },
          "execution_count": 57
        }
      ]
    },
    {
      "cell_type": "markdown",
      "metadata": {
        "id": "wKf6ieert3Xz"
      },
      "source": [
        "희소벡터였던 `W[0]`가 밀집벡터 `U[0]`로 변화"
      ]
    },
    {
      "cell_type": "code",
      "metadata": {
        "colab": {
          "base_uri": "https://localhost:8080/"
        },
        "id": "VLHcw-xbt0gw",
        "outputId": "231d0ef3-37db-4206-bd1c-511e535e0185"
      },
      "source": [
        "#2차원 벡터로 줄이려면... 처음 2개 벡터까지만 꺼내면 됨\n",
        "U[0,:2]"
      ],
      "execution_count": 58,
      "outputs": [
        {
          "output_type": "execute_result",
          "data": {
            "text/plain": [
              "array([0.   , 0.315], dtype=float32)"
            ]
          },
          "metadata": {
            "tags": []
          },
          "execution_count": 58
        }
      ]
    },
    {
      "cell_type": "code",
      "metadata": {
        "colab": {
          "base_uri": "https://localhost:8080/",
          "height": 265
        },
        "id": "fuIZl80yufWS",
        "outputId": "e3f6d8d4-2698-4ab5-a220-11de6427d404"
      },
      "source": [
        "# 플롯\n",
        "for word, word_id in word_to_id.items():\n",
        "    plt.annotate(word, (U[word_id, 0], U[word_id, 1]))\n",
        "plt.scatter(U[:,0], U[:,1], alpha=0.5)\n",
        "plt.show()"
      ],
      "execution_count": 61,
      "outputs": [
        {
          "output_type": "display_data",
          "data": {
            "image/png": "[encoded data removed]",
            "text/plain": [
              "<Figure size 432x288 with 1 Axes>"
            ]
          },
          "metadata": {
            "tags": [],
            "needs_background": "light"
          }
        }
      ]
    },
    {
      "cell_type": "markdown",
      "metadata": {
        "id": "bUz_EhyYvYBH"
      },
      "source": [
        "- goodbye와 hello가 가까이 있음.\n",
        "\n",
        "\n",
        "SVD계산은 $O(N^3)$ 의 시간복잡도를 가짐. -> 더 빠른 기법인 `Truncated SVD` (특이값이 작은 것을 버림)를 이용"
      ]
    },
    {
      "cell_type": "markdown",
      "metadata": {
        "id": "_J_v36divxS6"
      },
      "source": [
        "### 2.4.4 PTB 데이터셋\n",
        ": 펜 트리뱅크(PTB, Penn Treebank) 말뭉치\n",
        "\n",
        "- 주어진 기법의 품질을 측정하는 벤치마크로 자주 이용 "
      ]
    },
    {
      "cell_type": "code",
      "metadata": {
        "colab": {
          "base_uri": "https://localhost:8080/"
        },
        "id": "cz1uf-bqusih",
        "outputId": "8a53decc-a3a3-4056-d712-de345a3aef1c"
      },
      "source": [
        "import sys\n",
        "sys.path.append('/content/drive/MyDrive/Colab Notebooks/DLfromScratch/2/deep-learning-from-scratch-2-master/')\n",
        "from dataset import ptb\n",
        "\n",
        "corpus, word_to_id, id_to_word = ptb.load_data('train')\n",
        "\n",
        "print('말뭉치 크기:', len(corpus))\n",
        "print('corpus[:30]:', corpus[:30])\n",
        "print()\n",
        "print('id_to_word[0]:', id_to_word[0])\n",
        "print('id_to_word[1]:', id_to_word[1])\n",
        "print('id_to_word[2]:', id_to_word[2])\n",
        "print()\n",
        "print(\"word_to_id['car']:\", word_to_id['car'])\n",
        "print(\"word_to_id['happy']:\", word_to_id['happy'])\n",
        "print(\"word_to_id['lexus']:\", word_to_id['lexus'])\n",
        "\n",
        "corpus, word_to_id, id_to_word = ptb.load_data('train')\n",
        "\n",
        "print('말뭉치 크기:', len(corpus))\n",
        "print('corpus[:30]:', corpus[:30])\n",
        "print()\n",
        "print('id_to_word[0]:', id_to_word[0])\n",
        "print('id_to_word[1]:', id_to_word[1])\n",
        "print('id_to_word[2]:', id_to_word[2])\n",
        "print()\n",
        "print(\"word_to_id['car']:\", word_to_id['car'])\n",
        "print(\"word_to_id['happy']:\", word_to_id['happy'])\n",
        "print(\"word_to_id['lexus']:\", word_to_id['lexus'])"
      ],
      "execution_count": 65,
      "outputs": [
        {
          "output_type": "stream",
          "text": [
            "Downloading ptb.train.txt ... \n",
            "Done\n",
            "말뭉치 크기: 929589\n",
            "corpus[:30]: [ 0  1  2  3  4  5  6  7  8  9 10 11 12 13 14 15 16 17 18 19 20 21 22 23\n",
            " 24 25 26 27 28 29]\n",
            "\n",
            "id_to_word[0]: aer\n",
            "id_to_word[1]: banknote\n",
            "id_to_word[2]: berlitz\n",
            "\n",
            "word_to_id['car']: 3856\n",
            "word_to_id['happy']: 4428\n",
            "word_to_id['lexus']: 7426\n",
            "말뭉치 크기: 929589\n",
            "corpus[:30]: [ 0  1  2  3  4  5  6  7  8  9 10 11 12 13 14 15 16 17 18 19 20 21 22 23\n",
            " 24 25 26 27 28 29]\n",
            "\n",
            "id_to_word[0]: aer\n",
            "id_to_word[1]: banknote\n",
            "id_to_word[2]: berlitz\n",
            "\n",
            "word_to_id['car']: 3856\n",
            "word_to_id['happy']: 4428\n",
            "word_to_id['lexus']: 7426\n"
          ],
          "name": "stdout"
        }
      ]
    },
    {
      "cell_type": "markdown",
      "metadata": {
        "id": "B5YhecXpyMQJ"
      },
      "source": [
        "### 2.4.5 PTB 데이터셋 평가\n",
        "\n",
        "사이킷런의 고속 SVD (Truncated SVD) 사용"
      ]
    },
    {
      "cell_type": "code",
      "metadata": {
        "colab": {
          "base_uri": "https://localhost:8080/"
        },
        "id": "_HyjmLv6yBAZ",
        "outputId": "f967675b-b8e0-41e6-aae0-9793c05bd096"
      },
      "source": [
        "window_size = 2\n",
        "wordvec_size = 100\n",
        "\n",
        "corpus, word_to_id, id_to_word = ptb.load_data('train')\n",
        "vocab_size = len(word_to_id)\n",
        "print('동시발생 수 계산 ...')\n",
        "C = create_co_matrix(corpus, vocab_size, window_size)\n",
        "print('PPMI 계산 ...')\n",
        "W = ppmi(C, verbose=True)\n",
        "\n",
        "print('calculating SVD ...')\n",
        "try:\n",
        "    # truncated SVD (빠르다!)\n",
        "    from sklearn.utils.extmath import randomized_svd\n",
        "    U, S, V = randomized_svd(W, n_components=wordvec_size, n_iter=5,random_state=None)\n",
        "except ImportError:\n",
        "    # SVD (느리다)\n",
        "    U, S, V = np.linalg.svd(W)\n",
        "\n",
        "word_vecs = U[:, :wordvec_size]\n",
        "\n",
        "querys = ['you', 'year', 'car', 'toyota']\n",
        "for query in querys:\n",
        "    most_similar(query, word_to_id, id_to_word, word_vecs, top=5)"
      ],
      "execution_count": 66,
      "outputs": [
        {
          "output_type": "stream",
          "text": [
            "동시발생 수 계산 ...\n",
            "PPMI 계산 ...\n",
            "1.0% 완료\n",
            "2.0% 완료\n",
            "3.0% 완료\n",
            "4.0% 완료\n",
            "5.0% 완료\n",
            "6.0% 완료\n",
            "7.0% 완료\n",
            "8.0% 완료\n",
            "9.0% 완료\n",
            "10.0% 완료\n",
            "11.0% 완료\n",
            "12.0% 완료\n",
            "13.0% 완료\n",
            "14.0% 완료\n",
            "15.0% 완료\n",
            "16.0% 완료\n",
            "17.0% 완료\n",
            "18.0% 완료\n",
            "19.0% 완료\n",
            "20.0% 완료\n",
            "21.0% 완료\n",
            "22.0% 완료\n",
            "23.0% 완료\n",
            "24.0% 완료\n",
            "25.0% 완료\n",
            "26.0% 완료\n",
            "27.0% 완료\n",
            "28.0% 완료\n",
            "29.0% 완료\n",
            "30.0% 완료\n",
            "31.0% 완료\n",
            "32.0% 완료\n",
            "33.0% 완료\n",
            "34.0% 완료\n",
            "35.0% 완료\n",
            "36.0% 완료\n",
            "37.0% 완료\n",
            "38.0% 완료\n",
            "39.0% 완료\n",
            "40.0% 완료\n",
            "41.0% 완료\n",
            "42.0% 완료\n",
            "43.0% 완료\n",
            "44.0% 완료\n",
            "45.0% 완료\n",
            "46.0% 완료\n",
            "47.0% 완료\n",
            "48.0% 완료\n",
            "49.0% 완료\n",
            "50.0% 완료\n",
            "51.0% 완료\n",
            "52.0% 완료\n",
            "53.0% 완료\n",
            "54.0% 완료\n",
            "55.0% 완료\n",
            "56.0% 완료\n",
            "57.0% 완료\n",
            "58.0% 완료\n",
            "59.0% 완료\n",
            "60.0% 완료\n",
            "61.0% 완료\n",
            "62.0% 완료\n",
            "63.0% 완료\n",
            "64.0% 완료\n",
            "65.0% 완료\n",
            "66.0% 완료\n",
            "67.0% 완료\n",
            "68.0% 완료\n",
            "69.0% 완료\n",
            "70.0% 완료\n",
            "71.0% 완료\n",
            "72.0% 완료\n",
            "73.0% 완료\n",
            "74.0% 완료\n",
            "75.0% 완료\n",
            "76.0% 완료\n",
            "77.0% 완료\n",
            "78.0% 완료\n",
            "79.0% 완료\n",
            "80.0% 완료\n",
            "81.0% 완료\n",
            "82.0% 완료\n",
            "83.0% 완료\n",
            "84.0% 완료\n",
            "85.0% 완료\n",
            "86.0% 완료\n",
            "87.0% 완료\n",
            "88.0% 완료\n",
            "89.0% 완료\n",
            "90.0% 완료\n",
            "91.0% 완료\n",
            "92.0% 완료\n",
            "93.0% 완료\n",
            "94.0% 완료\n",
            "95.0% 완료\n",
            "96.0% 완료\n",
            "97.0% 완료\n",
            "98.0% 완료\n",
            "99.0% 완료\n",
            "100.0% 완료\n",
            "calculating SVD ...\n",
            "\n",
            "[query]you\n",
            "i : 0.524336040019989\n",
            "we : 0.5157831907272339\n",
            "me : 0.4410729706287384\n",
            "people : 0.4371470510959625\n",
            "going : 0.4177219569683075\n",
            "\n",
            "[query]year\n",
            "last : 0.5500229597091675\n",
            "next : 0.5375484228134155\n",
            "month : 0.5005132555961609\n",
            "this : 0.4827987551689148\n",
            "week : 0.47939640283584595\n",
            "\n",
            "[query]car\n",
            "steel : 0.43433499336242676\n",
            "auto : 0.42323562502861023\n",
            "truck : 0.38401952385902405\n",
            "paper : 0.37702322006225586\n",
            "line : 0.3759908676147461\n",
            "\n",
            "[query]toyota\n",
            "motor : 0.5564152002334595\n",
            "mcdonnell : 0.5268162488937378\n",
            "railway : 0.49926888942718506\n",
            "hughes : 0.4976010322570801\n",
            "freddie : 0.4673657715320587\n"
          ],
          "name": "stdout"
        }
      ]
    },
    {
      "cell_type": "markdown",
      "metadata": {
        "id": "2Zwnt-lY0RbE"
      },
      "source": [
        "## 2.5 정리\n",
        "\n",
        "1. WordNet 등의 시소러스를 이용하면 유의어를 얻거나 단어 사이의 유사도를 측정하는 등 유용한 작업을 할 수 있다. \n",
        "2. 하지만 수동으로 구축해야하는 시소러스 기반 기법은 한계가 있다. \n",
        "3. 그래서 현재는 말뭉치를 이용해 단어를 벡터화하는 방식이 주로 쓰인다. \n",
        "4. 최근의 단어 벡터화 기법들은 대부분 `단어의 의미는 주변 단어에 의해 형성된다.` 는 분포 가설에 기초한다. \n",
        "5. 통계 기반 기법은 말뭉치 안의 각 단어에 대해서 그 단어 주변 단어의 빈도를 집계한다. (=동시발생 행렬)\n",
        "6. 동시발생 행렬을 PPMI 행렬로 변환하고 -> 차원을 감소시킴으로써, 거대한 희소벡터를 밀집벡터로 변환할 수 있다. \n",
        "7. 단어의 벡터 공간에서는 의미가 가까운 단어는 그 거리도 가까울 것으로 기대된다. "
      ]
    }
  ]
}